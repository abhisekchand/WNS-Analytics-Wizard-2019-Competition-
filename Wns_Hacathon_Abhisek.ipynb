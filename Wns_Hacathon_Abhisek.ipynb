{
 "cells": [
  {
   "cell_type": "markdown",
   "metadata": {},
   "source": [
    "# Importing Librarries"
   ]
  },
  {
   "cell_type": "code",
   "execution_count": 1,
   "metadata": {},
   "outputs": [],
   "source": [
    "import re \n",
    "import matplotlib.pyplot as plt\n",
    "import pandas as pd\n",
    "import seaborn as sns\n",
    "import numpy as np"
   ]
  },
  {
   "cell_type": "markdown",
   "metadata": {},
   "source": [
    "# Importing Datasets"
   ]
  },
  {
   "cell_type": "code",
   "execution_count": 2,
   "metadata": {},
   "outputs": [],
   "source": [
    "train=pd.read_csv('Wns_files//train//train.csv')\n",
    "test=pd.read_csv('Wns_files//test.csv')\n",
    "item=pd.read_csv('Wns_files//train//item_data.csv')\n",
    "viewlog=pd.read_csv('Wns_files//train//view_log.csv')\n",
    "sub=pd.read_csv('Wns_files//sample_submission.csv')"
   ]
  },
  {
   "cell_type": "markdown",
   "metadata": {},
   "source": [
    "# Data Exploration"
   ]
  },
  {
   "cell_type": "code",
   "execution_count": 3,
   "metadata": {},
   "outputs": [
    {
     "data": {
      "text/plain": [
       "((237609, 7), (90675, 6), (132761, 6), (3118622, 5), (90675, 2))"
      ]
     },
     "execution_count": 3,
     "metadata": {},
     "output_type": "execute_result"
    }
   ],
   "source": [
    "train.shape,test.shape,item.shape,viewlog.shape,sub.shape"
   ]
  },
  {
   "cell_type": "code",
   "execution_count": 4,
   "metadata": {},
   "outputs": [
    {
     "data": {
      "text/plain": [
       "(0, 0, 0)"
      ]
     },
     "execution_count": 4,
     "metadata": {},
     "output_type": "execute_result"
    }
   ],
   "source": [
    "train.duplicated().sum(),test.duplicated().sum(),sub.duplicated().sum()"
   ]
  },
  {
   "cell_type": "code",
   "execution_count": 5,
   "metadata": {},
   "outputs": [
    {
     "data": {
      "text/plain": [
       "impression_id      237609\n",
       "impression_time     36461\n",
       "user_id             74723\n",
       "app_code              490\n",
       "os_version              3\n",
       "is_4G                   2\n",
       "is_click                2\n",
       "dtype: int64"
      ]
     },
     "execution_count": 5,
     "metadata": {},
     "output_type": "execute_result"
    }
   ],
   "source": [
    "train.nunique()"
   ]
  },
  {
   "cell_type": "code",
   "execution_count": 6,
   "metadata": {},
   "outputs": [
    {
     "data": {
      "application/vnd.jupyter.widget-view+json": {
       "model_id": "36a5b95c6bd143ee91abc5fca0ba689c"
      },
      "text/html": [
       "<div>\n",
       "<style scoped>\n",
       "    .dataframe tbody tr th:only-of-type {\n",
       "        vertical-align: middle;\n",
       "    }\n",
       "\n",
       "    .dataframe tbody tr th {\n",
       "        vertical-align: top;\n",
       "    }\n",
       "\n",
       "    .dataframe thead th {\n",
       "        text-align: right;\n",
       "    }\n",
       "</style>\n",
       "<table border=\"1\" class=\"dataframe\">\n",
       "  <thead>\n",
       "    <tr style=\"text-align: right;\">\n",
       "      <th></th>\n",
       "      <th>impression_id</th>\n",
       "      <th>impression_time</th>\n",
       "      <th>user_id</th>\n",
       "      <th>app_code</th>\n",
       "      <th>os_version</th>\n",
       "      <th>is_4G</th>\n",
       "      <th>is_click</th>\n",
       "    </tr>\n",
       "  </thead>\n",
       "  <tbody>\n",
       "    <tr>\n",
       "      <th>0</th>\n",
       "      <td>c4ca4238a0b923820dcc509a6f75849b</td>\n",
       "      <td>2018-11-15 00:00:00</td>\n",
       "      <td>87862</td>\n",
       "      <td>422</td>\n",
       "      <td>old</td>\n",
       "      <td>0</td>\n",
       "      <td>0</td>\n",
       "    </tr>\n",
       "    <tr>\n",
       "      <th>1</th>\n",
       "      <td>45c48cce2e2d7fbdea1afc51c7c6ad26</td>\n",
       "      <td>2018-11-15 00:01:00</td>\n",
       "      <td>63410</td>\n",
       "      <td>467</td>\n",
       "      <td>latest</td>\n",
       "      <td>1</td>\n",
       "      <td>1</td>\n",
       "    </tr>\n",
       "  </tbody>\n",
       "</table>\n",
       "</div>"
      ],
      "text/plain": [
       "                      impression_id      impression_time  user_id  app_code  \\\n",
       "0  c4ca4238a0b923820dcc509a6f75849b  2018-11-15 00:00:00    87862       422   \n",
       "1  45c48cce2e2d7fbdea1afc51c7c6ad26  2018-11-15 00:01:00    63410       467   \n",
       "\n",
       "  os_version  is_4G  is_click  \n",
       "0        old      0         0  \n",
       "1     latest      1         1  "
      ]
     },
     "metadata": {},
     "output_type": "display_data"
    }
   ],
   "source": [
    "train.head(2)"
   ]
  },
  {
   "cell_type": "code",
   "execution_count": 7,
   "metadata": {},
   "outputs": [
    {
     "data": {
      "text/plain": [
       "impression_id      90675\n",
       "impression_time     9636\n",
       "user_id            34079\n",
       "app_code             373\n",
       "os_version             3\n",
       "is_4G                  2\n",
       "dtype: int64"
      ]
     },
     "execution_count": 7,
     "metadata": {},
     "output_type": "execute_result"
    }
   ],
   "source": [
    "test.nunique()"
   ]
  },
  {
   "cell_type": "code",
   "execution_count": 8,
   "metadata": {},
   "outputs": [
    {
     "data": {
      "application/vnd.jupyter.widget-view+json": {
       "model_id": "18c64148987a4d379dd7657744bc6919"
      },
      "text/html": [
       "<div>\n",
       "<style scoped>\n",
       "    .dataframe tbody tr th:only-of-type {\n",
       "        vertical-align: middle;\n",
       "    }\n",
       "\n",
       "    .dataframe tbody tr th {\n",
       "        vertical-align: top;\n",
       "    }\n",
       "\n",
       "    .dataframe thead th {\n",
       "        text-align: right;\n",
       "    }\n",
       "</style>\n",
       "<table border=\"1\" class=\"dataframe\">\n",
       "  <thead>\n",
       "    <tr style=\"text-align: right;\">\n",
       "      <th></th>\n",
       "      <th>impression_id</th>\n",
       "      <th>impression_time</th>\n",
       "      <th>user_id</th>\n",
       "      <th>app_code</th>\n",
       "      <th>os_version</th>\n",
       "      <th>is_4G</th>\n",
       "    </tr>\n",
       "  </thead>\n",
       "  <tbody>\n",
       "    <tr>\n",
       "      <th>0</th>\n",
       "      <td>a9e7126a585a69a32bc7414e9d0c0ada</td>\n",
       "      <td>2018-12-13 07:44:00</td>\n",
       "      <td>44754</td>\n",
       "      <td>127</td>\n",
       "      <td>latest</td>\n",
       "      <td>1</td>\n",
       "    </tr>\n",
       "    <tr>\n",
       "      <th>1</th>\n",
       "      <td>caac14a5bf2ba283db7708bb34855760</td>\n",
       "      <td>2018-12-13 07:45:00</td>\n",
       "      <td>29656</td>\n",
       "      <td>44</td>\n",
       "      <td>latest</td>\n",
       "      <td>0</td>\n",
       "    </tr>\n",
       "  </tbody>\n",
       "</table>\n",
       "</div>"
      ],
      "text/plain": [
       "                      impression_id      impression_time  user_id  app_code  \\\n",
       "0  a9e7126a585a69a32bc7414e9d0c0ada  2018-12-13 07:44:00    44754       127   \n",
       "1  caac14a5bf2ba283db7708bb34855760  2018-12-13 07:45:00    29656        44   \n",
       "\n",
       "  os_version  is_4G  \n",
       "0     latest      1  \n",
       "1     latest      0  "
      ]
     },
     "metadata": {},
     "output_type": "display_data"
    }
   ],
   "source": [
    "test.head(2)"
   ]
  },
  {
   "cell_type": "code",
   "execution_count": 9,
   "metadata": {},
   "outputs": [
    {
     "data": {
      "application/vnd.jupyter.widget-view+json": {
       "model_id": "a4a32f1a47c14445a4abd069dfd414c1"
      },
      "text/html": [
       "<div>\n",
       "<style scoped>\n",
       "    .dataframe tbody tr th:only-of-type {\n",
       "        vertical-align: middle;\n",
       "    }\n",
       "\n",
       "    .dataframe tbody tr th {\n",
       "        vertical-align: top;\n",
       "    }\n",
       "\n",
       "    .dataframe thead th {\n",
       "        text-align: right;\n",
       "    }\n",
       "</style>\n",
       "<table border=\"1\" class=\"dataframe\">\n",
       "  <thead>\n",
       "    <tr style=\"text-align: right;\">\n",
       "      <th></th>\n",
       "      <th>item_id</th>\n",
       "      <th>item_price</th>\n",
       "      <th>category_1</th>\n",
       "      <th>category_2</th>\n",
       "      <th>category_3</th>\n",
       "      <th>product_type</th>\n",
       "    </tr>\n",
       "  </thead>\n",
       "  <tbody>\n",
       "    <tr>\n",
       "      <th>0</th>\n",
       "      <td>26880</td>\n",
       "      <td>4602</td>\n",
       "      <td>11</td>\n",
       "      <td>35</td>\n",
       "      <td>20</td>\n",
       "      <td>3040</td>\n",
       "    </tr>\n",
       "    <tr>\n",
       "      <th>1</th>\n",
       "      <td>54939</td>\n",
       "      <td>3513</td>\n",
       "      <td>12</td>\n",
       "      <td>57</td>\n",
       "      <td>85</td>\n",
       "      <td>6822</td>\n",
       "    </tr>\n",
       "  </tbody>\n",
       "</table>\n",
       "</div>"
      ],
      "text/plain": [
       "   item_id  item_price  category_1  category_2  category_3  product_type\n",
       "0    26880        4602          11          35          20          3040\n",
       "1    54939        3513          12          57          85          6822"
      ]
     },
     "metadata": {},
     "output_type": "display_data"
    }
   ],
   "source": [
    "item.head(2)"
   ]
  },
  {
   "cell_type": "code",
   "execution_count": 10,
   "metadata": {},
   "outputs": [
    {
     "data": {
      "application/vnd.jupyter.widget-view+json": {
       "model_id": "93d33e1d6d404e6ba111bfa670367d75"
      },
      "text/html": [
       "<div>\n",
       "<style scoped>\n",
       "    .dataframe tbody tr th:only-of-type {\n",
       "        vertical-align: middle;\n",
       "    }\n",
       "\n",
       "    .dataframe tbody tr th {\n",
       "        vertical-align: top;\n",
       "    }\n",
       "\n",
       "    .dataframe thead th {\n",
       "        text-align: right;\n",
       "    }\n",
       "</style>\n",
       "<table border=\"1\" class=\"dataframe\">\n",
       "  <thead>\n",
       "    <tr style=\"text-align: right;\">\n",
       "      <th></th>\n",
       "      <th>server_time</th>\n",
       "      <th>device_type</th>\n",
       "      <th>session_id</th>\n",
       "      <th>user_id</th>\n",
       "      <th>item_id</th>\n",
       "    </tr>\n",
       "  </thead>\n",
       "  <tbody>\n",
       "    <tr>\n",
       "      <th>0</th>\n",
       "      <td>2018-10-15 08:58:00</td>\n",
       "      <td>android</td>\n",
       "      <td>112333</td>\n",
       "      <td>4557</td>\n",
       "      <td>32970</td>\n",
       "    </tr>\n",
       "    <tr>\n",
       "      <th>1</th>\n",
       "      <td>2018-10-15 08:58:00</td>\n",
       "      <td>android</td>\n",
       "      <td>503590</td>\n",
       "      <td>74788</td>\n",
       "      <td>7640</td>\n",
       "    </tr>\n",
       "  </tbody>\n",
       "</table>\n",
       "</div>"
      ],
      "text/plain": [
       "           server_time device_type  session_id  user_id  item_id\n",
       "0  2018-10-15 08:58:00     android      112333     4557    32970\n",
       "1  2018-10-15 08:58:00     android      503590    74788     7640"
      ]
     },
     "metadata": {},
     "output_type": "display_data"
    }
   ],
   "source": [
    "viewlog.head(2)"
   ]
  },
  {
   "cell_type": "code",
   "execution_count": 11,
   "metadata": {},
   "outputs": [
    {
     "data": {
      "application/vnd.jupyter.widget-view+json": {
       "model_id": "af85c925d3d74cf19ea82820dbc88ac1"
      },
      "text/html": [
       "<div>\n",
       "<style scoped>\n",
       "    .dataframe tbody tr th:only-of-type {\n",
       "        vertical-align: middle;\n",
       "    }\n",
       "\n",
       "    .dataframe tbody tr th {\n",
       "        vertical-align: top;\n",
       "    }\n",
       "\n",
       "    .dataframe thead th {\n",
       "        text-align: right;\n",
       "    }\n",
       "</style>\n",
       "<table border=\"1\" class=\"dataframe\">\n",
       "  <thead>\n",
       "    <tr style=\"text-align: right;\">\n",
       "      <th></th>\n",
       "      <th>impression_id</th>\n",
       "      <th>is_click</th>\n",
       "    </tr>\n",
       "  </thead>\n",
       "  <tbody>\n",
       "    <tr>\n",
       "      <th>0</th>\n",
       "      <td>a9e7126a585a69a32bc7414e9d0c0ada</td>\n",
       "      <td>0</td>\n",
       "    </tr>\n",
       "    <tr>\n",
       "      <th>1</th>\n",
       "      <td>caac14a5bf2ba283db7708bb34855760</td>\n",
       "      <td>0</td>\n",
       "    </tr>\n",
       "  </tbody>\n",
       "</table>\n",
       "</div>"
      ],
      "text/plain": [
       "                      impression_id  is_click\n",
       "0  a9e7126a585a69a32bc7414e9d0c0ada         0\n",
       "1  caac14a5bf2ba283db7708bb34855760         0"
      ]
     },
     "metadata": {},
     "output_type": "display_data"
    }
   ],
   "source": [
    "sub.head(2)"
   ]
  },
  {
   "cell_type": "code",
   "execution_count": 12,
   "metadata": {},
   "outputs": [
    {
     "name": "stdout",
     "output_type": "stream",
     "text": [
      "<class 'pandas.core.frame.DataFrame'>\n",
      "RangeIndex: 237609 entries, 0 to 237608\n",
      "Data columns (total 7 columns):\n",
      "impression_id      237609 non-null object\n",
      "impression_time    237609 non-null object\n",
      "user_id            237609 non-null int64\n",
      "app_code           237609 non-null int64\n",
      "os_version         237609 non-null object\n",
      "is_4G              237609 non-null int64\n",
      "is_click           237609 non-null int64\n",
      "dtypes: int64(4), object(3)\n",
      "memory usage: 12.7+ MB\n"
     ]
    }
   ],
   "source": [
    "train.info()"
   ]
  },
  {
   "cell_type": "code",
   "execution_count": 13,
   "metadata": {
    "scrolled": true
   },
   "outputs": [
    {
     "data": {
      "text/plain": [
       "<matplotlib.axes._subplots.AxesSubplot at 0x22fc17c1348>"
      ]
     },
     "execution_count": 13,
     "metadata": {},
     "output_type": "execute_result"
    },
    {
     "data": {
      "image/png": "[encoded data removed]",
      "text/plain": [
       "<Figure size 432x288 with 1 Axes>"
      ]
     },
     "metadata": {
      "needs_background": "light"
     },
     "output_type": "display_data"
    }
   ],
   "source": [
    "sns.countplot(train['is_click'])"
   ]
  },
  {
   "cell_type": "code",
   "execution_count": 14,
   "metadata": {},
   "outputs": [
    {
     "data": {
      "text/plain": [
       "0    226747\n",
       "1     10862\n",
       "Name: is_click, dtype: int64"
      ]
     },
     "execution_count": 14,
     "metadata": {},
     "output_type": "execute_result"
    }
   ],
   "source": [
    "train.is_click.value_counts()"
   ]
  },
  {
   "cell_type": "code",
   "execution_count": 15,
   "metadata": {},
   "outputs": [
    {
     "data": {
      "text/plain": [
       "0    0.954286\n",
       "1    0.045714\n",
       "Name: is_click, dtype: float64"
      ]
     },
     "execution_count": 15,
     "metadata": {},
     "output_type": "execute_result"
    }
   ],
   "source": [
    "train.is_click.value_counts()/train.shape[0]"
   ]
  },
  {
   "cell_type": "code",
   "execution_count": 16,
   "metadata": {},
   "outputs": [],
   "source": [
    "train['impression_time']=pd.to_datetime(train['impression_time'])"
   ]
  },
  {
   "cell_type": "code",
   "execution_count": 17,
   "metadata": {},
   "outputs": [
    {
     "data": {
      "text/plain": [
       "Text(0.5, 1.0, 'Number of clicks with respect to impression time')"
      ]
     },
     "execution_count": 17,
     "metadata": {},
     "output_type": "execute_result"
    },
    {
     "data": {
      "image/png": "[encoded data removed]",
      "text/plain": [
       "<Figure size 1440x720 with 1 Axes>"
      ]
     },
     "metadata": {
      "needs_background": "light"
     },
     "output_type": "display_data"
    }
   ],
   "source": [
    "train.groupby(train['impression_time']).agg({'is_click':'sum'}).plot(figsize=(20,10))\n",
    "plt.ylabel('Number of clicks')\n",
    "plt.title('Number of clicks with respect to impression time')"
   ]
  },
  {
   "cell_type": "code",
   "execution_count": 18,
   "metadata": {},
   "outputs": [
    {
     "data": {
      "text/plain": [
       "Text(0.5, 1.0, 'Number of clicks with respect to the day of the month')"
      ]
     },
     "execution_count": 18,
     "metadata": {},
     "output_type": "execute_result"
    },
    {
     "data": {
      "image/png": "[encoded data removed]",
      "text/plain": [
       "<Figure size 1440x720 with 1 Axes>"
      ]
     },
     "metadata": {
      "needs_background": "light"
     },
     "output_type": "display_data"
    }
   ],
   "source": [
    "train['day_of_month']=train['impression_time'].dt.day\n",
    "train.groupby(train['day_of_month']).agg({'is_click':'sum'}).plot(figsize=(20,10))\n",
    "plt.ylabel('Number of clicks')\n",
    "plt.title('Number of clicks with respect to the day of the month')"
   ]
  },
  {
   "cell_type": "code",
   "execution_count": 19,
   "metadata": {},
   "outputs": [
    {
     "data": {
      "text/plain": [
       "Text(0.5, 1.0, 'Number of clicks with respect to the hour of the day')"
      ]
     },
     "execution_count": 19,
     "metadata": {},
     "output_type": "execute_result"
    },
    {
     "data": {
      "image/png": "[encoded data removed]",
      "text/plain": [
       "<Figure size 1440x720 with 1 Axes>"
      ]
     },
     "metadata": {
      "needs_background": "light"
     },
     "output_type": "display_data"
    }
   ],
   "source": [
    "train['hour_of_the_day']=train['impression_time'].dt.hour\n",
    "train.groupby(train['hour_of_the_day']).agg({'is_click':'sum'}).plot(figsize=(20,10))\n",
    "plt.ylabel('Number of clicks')\n",
    "plt.title('Number of clicks with respect to the hour of the day')"
   ]
  },
  {
   "cell_type": "code",
   "execution_count": 20,
   "metadata": {},
   "outputs": [
    {
     "data": {
      "text/plain": [
       "Text(0.5, 1.0, 'Number of clicks in each hour')"
      ]
     },
     "execution_count": 20,
     "metadata": {},
     "output_type": "execute_result"
    },
    {
     "data": {
      "image/png": "[encoded data removed]",
      "text/plain": [
       "<Figure size 1440x720 with 1 Axes>"
      ]
     },
     "metadata": {
      "needs_background": "light"
     },
     "output_type": "display_data"
    }
   ],
   "source": [
    "train.groupby(['hour_of_the_day','is_click']).size().unstack().plot(kind='bar',figsize=(20,10))\n",
    "plt.ylabel('Number of clicks')\n",
    "plt.title('Number of clicks in each hour')"
   ]
  },
  {
   "cell_type": "markdown",
   "metadata": {},
   "source": [
    "1.we are taking clicks and hours(24) and doing barplot "
   ]
  },
  {
   "cell_type": "code",
   "execution_count": 21,
   "metadata": {},
   "outputs": [
    {
     "data": {
      "text/plain": [
       "Text(0.5, 1.0, 'Hourly counter of all the posite clicks')"
      ]
     },
     "execution_count": 21,
     "metadata": {},
     "output_type": "execute_result"
    },
    {
     "data": {
      "image/png": "[encoded data removed]",
      "text/plain": [
       "<Figure size 1440x720 with 1 Axes>"
      ]
     },
     "metadata": {
      "needs_background": "light"
     },
     "output_type": "display_data"
    }
   ],
   "source": [
    "df_click=train[train['is_click']==1]\n",
    "df_hour=train[['hour_of_the_day','is_click']].groupby(['hour_of_the_day']).count().reset_index()\n",
    "df_hour=df_hour.rename(columns={'is_click':'impressions'})\n",
    "df_hour['clicks']=df_click[['hour_of_the_day','is_click']].groupby(['hour_of_the_day']).count().reset_index()['is_click']\n",
    "df_hour['CTR']=(df_hour['clicks']/df_hour['impressions'])*100\n",
    "plt.figure(figsize=(20,10))\n",
    "sns.barplot(x='hour_of_the_day',y='CTR',data=df_hour)\n",
    "plt.title('Hourly counter of all the posite clicks')"
   ]
  },
  {
   "cell_type": "markdown",
   "metadata": {},
   "source": [
    "1.we are creating new data frame of is_click which will contain the clicks that is done  \n",
    "2.now we are creating another df which will have all the clicks in the 24 hours of the day,we are grouping by hours  \n",
    "3.now we are checking the click that have beeen done(i.e.=1) in all the 24 hours by creating new col  \n",
    "4.Now we are taking percentage of click done by total clicks in all the 24 hours  \n",
    "5.Now plotting the click done and total clicks in barplot"
   ]
  },
  {
   "cell_type": "code",
   "execution_count": 22,
   "metadata": {},
   "outputs": [
    {
     "data": {
      "application/vnd.jupyter.widget-view+json": {
       "model_id": "a9676e19f36e4239a29b03c9f3fbf06a"
      },
      "text/html": [
       "<div>\n",
       "<style scoped>\n",
       "    .dataframe tbody tr th:only-of-type {\n",
       "        vertical-align: middle;\n",
       "    }\n",
       "\n",
       "    .dataframe tbody tr th {\n",
       "        vertical-align: top;\n",
       "    }\n",
       "\n",
       "    .dataframe thead th {\n",
       "        text-align: right;\n",
       "    }\n",
       "</style>\n",
       "<table border=\"1\" class=\"dataframe\">\n",
       "  <thead>\n",
       "    <tr style=\"text-align: right;\">\n",
       "      <th></th>\n",
       "      <th>impression_id</th>\n",
       "      <th>impression_time</th>\n",
       "      <th>user_id</th>\n",
       "      <th>app_code</th>\n",
       "      <th>os_version</th>\n",
       "      <th>is_4G</th>\n",
       "      <th>is_click</th>\n",
       "      <th>day_of_month</th>\n",
       "      <th>hour_of_the_day</th>\n",
       "    </tr>\n",
       "  </thead>\n",
       "  <tbody>\n",
       "    <tr>\n",
       "      <th>0</th>\n",
       "      <td>c4ca4238a0b923820dcc509a6f75849b</td>\n",
       "      <td>2018-11-15 00:00:00</td>\n",
       "      <td>87862</td>\n",
       "      <td>422</td>\n",
       "      <td>old</td>\n",
       "      <td>0</td>\n",
       "      <td>0</td>\n",
       "      <td>15</td>\n",
       "      <td>0</td>\n",
       "    </tr>\n",
       "    <tr>\n",
       "      <th>1</th>\n",
       "      <td>45c48cce2e2d7fbdea1afc51c7c6ad26</td>\n",
       "      <td>2018-11-15 00:01:00</td>\n",
       "      <td>63410</td>\n",
       "      <td>467</td>\n",
       "      <td>latest</td>\n",
       "      <td>1</td>\n",
       "      <td>1</td>\n",
       "      <td>15</td>\n",
       "      <td>0</td>\n",
       "    </tr>\n",
       "  </tbody>\n",
       "</table>\n",
       "</div>"
      ],
      "text/plain": [
       "                      impression_id     impression_time  user_id  app_code  \\\n",
       "0  c4ca4238a0b923820dcc509a6f75849b 2018-11-15 00:00:00    87862       422   \n",
       "1  45c48cce2e2d7fbdea1afc51c7c6ad26 2018-11-15 00:01:00    63410       467   \n",
       "\n",
       "  os_version  is_4G  is_click  day_of_month  hour_of_the_day  \n",
       "0        old      0         0            15                0  \n",
       "1     latest      1         1            15                0  "
      ]
     },
     "metadata": {},
     "output_type": "display_data"
    }
   ],
   "source": [
    "train.head(2)"
   ]
  },
  {
   "cell_type": "code",
   "execution_count": 23,
   "metadata": {},
   "outputs": [
    {
     "data": {
      "text/plain": [
       "Text(0.5, 1.0, 'Number of clicks in each weekday')"
      ]
     },
     "execution_count": 23,
     "metadata": {},
     "output_type": "execute_result"
    },
    {
     "data": {
      "image/png": "[encoded data removed]",
      "text/plain": [
       "<Figure size 1440x720 with 1 Axes>"
      ]
     },
     "metadata": {
      "needs_background": "light"
     },
     "output_type": "display_data"
    }
   ],
   "source": [
    "train['weekday_of_the_day']=train['impression_time'].dt.weekday_name\n",
    "columns=['Monday','Tuesday','Wednesday','Thursday','Friday','Saturday','Sunday']\n",
    "train.groupby('weekday_of_the_day').agg({'is_click':'sum'}).reindex(columns).plot(figsize=(20,10))\n",
    "ticks=list(range(0,7,1))\n",
    "plt.xticks(ticks,columns)\n",
    "plt.ylabel('Number of clicks')\n",
    "plt.title('Number of clicks in each weekday')"
   ]
  },
  {
   "cell_type": "code",
   "execution_count": 24,
   "metadata": {
    "scrolled": true
   },
   "outputs": [
    {
     "data": {
      "text/plain": [
       "Text(0.5, 1.0, 'Impressions vs number of clicks in a day of a week')"
      ]
     },
     "execution_count": 24,
     "metadata": {},
     "output_type": "execute_result"
    },
    {
     "data": {
      "image/png": "[encoded data removed]",
      "text/plain": [
       "<Figure size 1440x720 with 1 Axes>"
      ]
     },
     "metadata": {
      "needs_background": "light"
     },
     "output_type": "display_data"
    }
   ],
   "source": [
    "train.groupby(['weekday_of_the_day','is_click']).size().unstack().plot(kind='bar',figsize=(20,10))\n",
    "plt.ylabel('Number of clicks')\n",
    "plt.title('Impressions vs number of clicks in a day of a week')"
   ]
  },
  {
   "cell_type": "code",
   "execution_count": 25,
   "metadata": {},
   "outputs": [
    {
     "data": {
      "application/vnd.jupyter.widget-view+json": {
       "model_id": "ba63ab7f425241f69cf806b21612883e"
      },
      "text/html": [
       "<div>\n",
       "<style scoped>\n",
       "    .dataframe tbody tr th:only-of-type {\n",
       "        vertical-align: middle;\n",
       "    }\n",
       "\n",
       "    .dataframe tbody tr th {\n",
       "        vertical-align: top;\n",
       "    }\n",
       "\n",
       "    .dataframe thead th {\n",
       "        text-align: right;\n",
       "    }\n",
       "</style>\n",
       "<table border=\"1\" class=\"dataframe\">\n",
       "  <thead>\n",
       "    <tr style=\"text-align: right;\">\n",
       "      <th></th>\n",
       "      <th>impression_id</th>\n",
       "      <th>impression_time</th>\n",
       "      <th>user_id</th>\n",
       "      <th>app_code</th>\n",
       "      <th>os_version</th>\n",
       "      <th>is_4G</th>\n",
       "      <th>is_click</th>\n",
       "      <th>day_of_month</th>\n",
       "      <th>hour_of_the_day</th>\n",
       "      <th>weekday_of_the_day</th>\n",
       "    </tr>\n",
       "  </thead>\n",
       "  <tbody>\n",
       "    <tr>\n",
       "      <th>0</th>\n",
       "      <td>c4ca4238a0b923820dcc509a6f75849b</td>\n",
       "      <td>2018-11-15</td>\n",
       "      <td>87862</td>\n",
       "      <td>422</td>\n",
       "      <td>old</td>\n",
       "      <td>0</td>\n",
       "      <td>0</td>\n",
       "      <td>15</td>\n",
       "      <td>0</td>\n",
       "      <td>Thursday</td>\n",
       "    </tr>\n",
       "  </tbody>\n",
       "</table>\n",
       "</div>"
      ],
      "text/plain": [
       "                      impression_id impression_time  user_id  app_code  \\\n",
       "0  c4ca4238a0b923820dcc509a6f75849b      2018-11-15    87862       422   \n",
       "\n",
       "  os_version  is_4G  is_click  day_of_month  hour_of_the_day  \\\n",
       "0        old      0         0            15                0   \n",
       "\n",
       "  weekday_of_the_day  \n",
       "0           Thursday  "
      ]
     },
     "metadata": {},
     "output_type": "display_data"
    }
   ],
   "source": [
    "train.head(1)"
   ]
  },
  {
   "cell_type": "code",
   "execution_count": 26,
   "metadata": {},
   "outputs": [
    {
     "data": {
      "application/vnd.jupyter.widget-view+json": {
       "model_id": "e4a3795bb6904995968437f71ab46d7f"
      },
      "text/html": [
       "<div>\n",
       "<style scoped>\n",
       "    .dataframe tbody tr th:only-of-type {\n",
       "        vertical-align: middle;\n",
       "    }\n",
       "\n",
       "    .dataframe tbody tr th {\n",
       "        vertical-align: top;\n",
       "    }\n",
       "\n",
       "    .dataframe thead th {\n",
       "        text-align: right;\n",
       "    }\n",
       "</style>\n",
       "<table border=\"1\" class=\"dataframe\">\n",
       "  <thead>\n",
       "    <tr style=\"text-align: right;\">\n",
       "      <th></th>\n",
       "      <th>impression_id</th>\n",
       "      <th>impression_time</th>\n",
       "      <th>user_id</th>\n",
       "      <th>app_code</th>\n",
       "      <th>os_version</th>\n",
       "      <th>is_4G</th>\n",
       "      <th>is_click</th>\n",
       "      <th>day_of_month</th>\n",
       "      <th>hour_of_the_day</th>\n",
       "    </tr>\n",
       "  </thead>\n",
       "  <tbody>\n",
       "    <tr>\n",
       "      <th>1</th>\n",
       "      <td>45c48cce2e2d7fbdea1afc51c7c6ad26</td>\n",
       "      <td>2018-11-15 00:01:00</td>\n",
       "      <td>63410</td>\n",
       "      <td>467</td>\n",
       "      <td>latest</td>\n",
       "      <td>1</td>\n",
       "      <td>1</td>\n",
       "      <td>15</td>\n",
       "      <td>0</td>\n",
       "    </tr>\n",
       "  </tbody>\n",
       "</table>\n",
       "</div>"
      ],
      "text/plain": [
       "                      impression_id     impression_time  user_id  app_code  \\\n",
       "1  45c48cce2e2d7fbdea1afc51c7c6ad26 2018-11-15 00:01:00    63410       467   \n",
       "\n",
       "  os_version  is_4G  is_click  day_of_month  hour_of_the_day  \n",
       "1     latest      1         1            15                0  "
      ]
     },
     "metadata": {},
     "output_type": "display_data"
    }
   ],
   "source": [
    "df_click.head(1)"
   ]
  },
  {
   "cell_type": "code",
   "execution_count": 27,
   "metadata": {},
   "outputs": [
    {
     "data": {
      "text/plain": [
       "Text(0.5, 1.0, 'Day of week CTR')"
      ]
     },
     "execution_count": 27,
     "metadata": {},
     "output_type": "execute_result"
    },
    {
     "data": {
      "image/png": "[encoded data removed]",
      "text/plain": [
       "<Figure size 1440x720 with 1 Axes>"
      ]
     },
     "metadata": {
      "needs_background": "light"
     },
     "output_type": "display_data"
    }
   ],
   "source": [
    "df_click=train[train['is_click']==1]\n",
    "df_dayofweek=train[['weekday_of_the_day','is_click']].groupby('weekday_of_the_day').count().reset_index()\n",
    "df_dayofweek=df_dayofweek.rename(columns={'is_click':'impressions'})\n",
    "df_dayofweek['clicks']=df_click[['weekday_of_the_day','is_click']].groupby('weekday_of_the_day').count().reset_index()['is_click']\n",
    "df_dayofweek['CTR']=(df_dayofweek['clicks']/df_dayofweek['impressions'])*100\n",
    "plt.figure(figsize=(20,10))\n",
    "sns.barplot(y='CTR',x='weekday_of_the_day',data=df_dayofweek,order=['Monday', 'Tuesday', 'Wednesday', 'Thursday', 'Friday', 'Saturday', 'Sunday'])\n",
    "plt.title('Day of week CTR')"
   ]
  },
  {
   "cell_type": "code",
   "execution_count": 28,
   "metadata": {},
   "outputs": [
    {
     "data": {
      "text/plain": [
       "latest          0.543818\n",
       "intermediate    0.233758\n",
       "old             0.222424\n",
       "Name: os_version, dtype: float64"
      ]
     },
     "execution_count": 28,
     "metadata": {},
     "output_type": "execute_result"
    }
   ],
   "source": [
    "train['os_version'].value_counts()/len(train)"
   ]
  },
  {
   "cell_type": "code",
   "execution_count": 29,
   "metadata": {
    "scrolled": true
   },
   "outputs": [
    {
     "name": "stdout",
     "output_type": "stream",
     "text": [
      "for osversion intermediate click rate is0.051761698143780496\n",
      "for osversion latest click rate is0.04165118870728083\n",
      "for osversion old click rate is0.04929044465468307\n"
     ]
    }
   ],
   "source": [
    "Osversion=train['os_version'].unique()\n",
    "Osversion.sort()\n",
    "for i in Osversion:\n",
    "    avg=train.loc[np.where((train['os_version']==i))]['is_click'].mean()\n",
    "    print('for osversion {} click rate is{}'.format(i,avg))"
   ]
  },
  {
   "cell_type": "markdown",
   "metadata": {},
   "source": [
    "taken threee columns unique names  \n",
    "doing mean for each unique names   \n",
    "returning mean for each unique names"
   ]
  },
  {
   "cell_type": "code",
   "execution_count": 30,
   "metadata": {},
   "outputs": [
    {
     "data": {
      "text/plain": [
       "<matplotlib.axes._subplots.AxesSubplot at 0x22fc6b9c788>"
      ]
     },
     "execution_count": 30,
     "metadata": {},
     "output_type": "execute_result"
    },
    {
     "data": {
      "image/png": "[encoded data removed]",
      "text/plain": [
       "<Figure size 1440x720 with 1 Axes>"
      ]
     },
     "metadata": {
      "needs_background": "light"
     },
     "output_type": "display_data"
    }
   ],
   "source": [
    "train.groupby(['os_version','is_click']).size().unstack().plot(kind='bar',figsize=(20,10),title='os version histogram')"
   ]
  },
  {
   "cell_type": "markdown",
   "metadata": {},
   "source": [
    "size() on a groupby result in order to count how many items are in each group."
   ]
  },
  {
   "cell_type": "code",
   "execution_count": 31,
   "metadata": {},
   "outputs": [
    {
     "data": {
      "application/vnd.jupyter.widget-view+json": {
       "model_id": "89626f0cd2d042ab91e3fb3b631fc4f4"
      },
      "text/html": [
       "<div>\n",
       "<style scoped>\n",
       "    .dataframe tbody tr th:only-of-type {\n",
       "        vertical-align: middle;\n",
       "    }\n",
       "\n",
       "    .dataframe tbody tr th {\n",
       "        vertical-align: top;\n",
       "    }\n",
       "\n",
       "    .dataframe thead th {\n",
       "        text-align: right;\n",
       "    }\n",
       "</style>\n",
       "<table border=\"1\" class=\"dataframe\">\n",
       "  <thead>\n",
       "    <tr style=\"text-align: right;\">\n",
       "      <th></th>\n",
       "      <th>impression_id</th>\n",
       "      <th>impression_time</th>\n",
       "      <th>user_id</th>\n",
       "      <th>app_code</th>\n",
       "      <th>os_version</th>\n",
       "      <th>is_4G</th>\n",
       "      <th>is_click</th>\n",
       "      <th>day_of_month</th>\n",
       "      <th>hour_of_the_day</th>\n",
       "      <th>weekday_of_the_day</th>\n",
       "    </tr>\n",
       "  </thead>\n",
       "  <tbody>\n",
       "    <tr>\n",
       "      <th>0</th>\n",
       "      <td>c4ca4238a0b923820dcc509a6f75849b</td>\n",
       "      <td>2018-11-15 00:00:00</td>\n",
       "      <td>87862</td>\n",
       "      <td>422</td>\n",
       "      <td>old</td>\n",
       "      <td>0</td>\n",
       "      <td>0</td>\n",
       "      <td>15</td>\n",
       "      <td>0</td>\n",
       "      <td>Thursday</td>\n",
       "    </tr>\n",
       "    <tr>\n",
       "      <th>1</th>\n",
       "      <td>45c48cce2e2d7fbdea1afc51c7c6ad26</td>\n",
       "      <td>2018-11-15 00:01:00</td>\n",
       "      <td>63410</td>\n",
       "      <td>467</td>\n",
       "      <td>latest</td>\n",
       "      <td>1</td>\n",
       "      <td>1</td>\n",
       "      <td>15</td>\n",
       "      <td>0</td>\n",
       "      <td>Thursday</td>\n",
       "    </tr>\n",
       "  </tbody>\n",
       "</table>\n",
       "</div>"
      ],
      "text/plain": [
       "                      impression_id     impression_time  user_id  app_code  \\\n",
       "0  c4ca4238a0b923820dcc509a6f75849b 2018-11-15 00:00:00    87862       422   \n",
       "1  45c48cce2e2d7fbdea1afc51c7c6ad26 2018-11-15 00:01:00    63410       467   \n",
       "\n",
       "  os_version  is_4G  is_click  day_of_month  hour_of_the_day  \\\n",
       "0        old      0         0            15                0   \n",
       "1     latest      1         1            15                0   \n",
       "\n",
       "  weekday_of_the_day  \n",
       "0           Thursday  \n",
       "1           Thursday  "
      ]
     },
     "metadata": {},
     "output_type": "display_data"
    }
   ],
   "source": [
    "train.head(2)"
   ]
  },
  {
   "cell_type": "code",
   "execution_count": 32,
   "metadata": {},
   "outputs": [
    {
     "data": {
      "text/plain": [
       "0    0.638688\n",
       "1    0.361312\n",
       "Name: is_4G, dtype: float64"
      ]
     },
     "execution_count": 32,
     "metadata": {},
     "output_type": "execute_result"
    }
   ],
   "source": [
    "train['is_4G'].value_counts()/len(train)"
   ]
  },
  {
   "cell_type": "code",
   "execution_count": 33,
   "metadata": {},
   "outputs": [
    {
     "name": "stdout",
     "output_type": "stream",
     "text": [
      "For 4g 0 click rate is 0.04625785790534931\n",
      "For 4g 1 click rate is 0.04475195396675636\n"
     ]
    }
   ],
   "source": [
    "is4g=train['is_4G'].unique()\n",
    "is4g.sort()\n",
    "for i in is4g:\n",
    "    avg1=train.loc[np.where((train['is_4G']==i))]['is_click'].mean()\n",
    "    print('For 4g {} click rate is {}'.format(i,avg1))"
   ]
  },
  {
   "cell_type": "code",
   "execution_count": 34,
   "metadata": {},
   "outputs": [
    {
     "data": {
      "text/plain": [
       "<matplotlib.axes._subplots.AxesSubplot at 0x22fc6aff988>"
      ]
     },
     "execution_count": 34,
     "metadata": {},
     "output_type": "execute_result"
    },
    {
     "data": {
      "image/png": "[encoded data removed]",
      "text/plain": [
       "<Figure size 1440x720 with 1 Axes>"
      ]
     },
     "metadata": {
      "needs_background": "light"
     },
     "output_type": "display_data"
    }
   ],
   "source": [
    "train.groupby(['is_4G','is_click']).size().unstack().plot(kind='bar',figsize=(20,10),title='4g histogram')"
   ]
  },
  {
   "cell_type": "code",
   "execution_count": 35,
   "metadata": {},
   "outputs": [
    {
     "data": {
      "application/vnd.jupyter.widget-view+json": {
       "model_id": "4da384b18e244f69bef8d4a12d55354c"
      },
      "text/html": [
       "<div>\n",
       "<style scoped>\n",
       "    .dataframe tbody tr th:only-of-type {\n",
       "        vertical-align: middle;\n",
       "    }\n",
       "\n",
       "    .dataframe tbody tr th {\n",
       "        vertical-align: top;\n",
       "    }\n",
       "\n",
       "    .dataframe thead th {\n",
       "        text-align: right;\n",
       "    }\n",
       "</style>\n",
       "<table border=\"1\" class=\"dataframe\">\n",
       "  <thead>\n",
       "    <tr style=\"text-align: right;\">\n",
       "      <th></th>\n",
       "      <th>impression_id</th>\n",
       "      <th>impression_time</th>\n",
       "      <th>user_id</th>\n",
       "      <th>app_code</th>\n",
       "      <th>os_version</th>\n",
       "      <th>is_4G</th>\n",
       "      <th>is_click</th>\n",
       "      <th>day_of_month</th>\n",
       "      <th>hour_of_the_day</th>\n",
       "      <th>weekday_of_the_day</th>\n",
       "    </tr>\n",
       "  </thead>\n",
       "  <tbody>\n",
       "    <tr>\n",
       "      <th>0</th>\n",
       "      <td>c4ca4238a0b923820dcc509a6f75849b</td>\n",
       "      <td>2018-11-15 00:00:00</td>\n",
       "      <td>87862</td>\n",
       "      <td>422</td>\n",
       "      <td>old</td>\n",
       "      <td>0</td>\n",
       "      <td>0</td>\n",
       "      <td>15</td>\n",
       "      <td>0</td>\n",
       "      <td>Thursday</td>\n",
       "    </tr>\n",
       "    <tr>\n",
       "      <th>1</th>\n",
       "      <td>45c48cce2e2d7fbdea1afc51c7c6ad26</td>\n",
       "      <td>2018-11-15 00:01:00</td>\n",
       "      <td>63410</td>\n",
       "      <td>467</td>\n",
       "      <td>latest</td>\n",
       "      <td>1</td>\n",
       "      <td>1</td>\n",
       "      <td>15</td>\n",
       "      <td>0</td>\n",
       "      <td>Thursday</td>\n",
       "    </tr>\n",
       "    <tr>\n",
       "      <th>2</th>\n",
       "      <td>70efdf2ec9b086079795c442636b55fb</td>\n",
       "      <td>2018-11-15 00:02:00</td>\n",
       "      <td>71748</td>\n",
       "      <td>259</td>\n",
       "      <td>intermediate</td>\n",
       "      <td>1</td>\n",
       "      <td>0</td>\n",
       "      <td>15</td>\n",
       "      <td>0</td>\n",
       "      <td>Thursday</td>\n",
       "    </tr>\n",
       "  </tbody>\n",
       "</table>\n",
       "</div>"
      ],
      "text/plain": [
       "                      impression_id     impression_time  user_id  app_code  \\\n",
       "0  c4ca4238a0b923820dcc509a6f75849b 2018-11-15 00:00:00    87862       422   \n",
       "1  45c48cce2e2d7fbdea1afc51c7c6ad26 2018-11-15 00:01:00    63410       467   \n",
       "2  70efdf2ec9b086079795c442636b55fb 2018-11-15 00:02:00    71748       259   \n",
       "\n",
       "     os_version  is_4G  is_click  day_of_month  hour_of_the_day  \\\n",
       "0           old      0         0            15                0   \n",
       "1        latest      1         1            15                0   \n",
       "2  intermediate      1         0            15                0   \n",
       "\n",
       "  weekday_of_the_day  \n",
       "0           Thursday  \n",
       "1           Thursday  \n",
       "2           Thursday  "
      ]
     },
     "metadata": {},
     "output_type": "display_data"
    }
   ],
   "source": [
    "train.head(3)"
   ]
  },
  {
   "cell_type": "code",
   "execution_count": 36,
   "metadata": {},
   "outputs": [],
   "source": [
    "train.drop(['day_of_month','hour_of_the_day','weekday_of_the_day'],axis=1,inplace=True)"
   ]
  },
  {
   "cell_type": "code",
   "execution_count": 37,
   "metadata": {},
   "outputs": [
    {
     "data": {
      "text/plain": [
       "(237609, 7)"
      ]
     },
     "execution_count": 37,
     "metadata": {},
     "output_type": "execute_result"
    }
   ],
   "source": [
    "train.shape"
   ]
  },
  {
   "cell_type": "markdown",
   "metadata": {},
   "source": [
    "# Data Preprocessing"
   ]
  },
  {
   "cell_type": "code",
   "execution_count": 38,
   "metadata": {},
   "outputs": [
    {
     "data": {
      "text/plain": [
       "(328284, 7)"
      ]
     },
     "execution_count": 38,
     "metadata": {},
     "output_type": "execute_result"
    }
   ],
   "source": [
    "df=train.append(test,ignore_index=True,sort=False)\n",
    "df.shape"
   ]
  },
  {
   "cell_type": "markdown",
   "metadata": {},
   "source": [
    "Here i have combined the training and testing set"
   ]
  },
  {
   "cell_type": "code",
   "execution_count": 39,
   "metadata": {},
   "outputs": [],
   "source": [
    "calc=df.groupby('user_id',axis=0).agg({'app_code':'count'}).reset_index()\n",
    "calc.columns=['user_id','count_of_users_based_on_app_code_of_partner_website']\n",
    "df=df.merge(calc,on='user_id',how='left')\n",
    "calc1=df.groupby('user_id',axis=0).agg({'is_4G':'sum'}).reset_index()\n",
    "calc1.columns=['user_id','count_of_users_based_on_4g_usedornot']\n",
    "df=df.merge(calc1,on='user_id',how='left')"
   ]
  },
  {
   "cell_type": "code",
   "execution_count": 40,
   "metadata": {},
   "outputs": [
    {
     "data": {
      "application/vnd.jupyter.widget-view+json": {
       "model_id": "4aedd95f538f4eccbd03f616d2ab5bcc"
      },
      "text/html": [
       "<div>\n",
       "<style scoped>\n",
       "    .dataframe tbody tr th:only-of-type {\n",
       "        vertical-align: middle;\n",
       "    }\n",
       "\n",
       "    .dataframe tbody tr th {\n",
       "        vertical-align: top;\n",
       "    }\n",
       "\n",
       "    .dataframe thead th {\n",
       "        text-align: right;\n",
       "    }\n",
       "</style>\n",
       "<table border=\"1\" class=\"dataframe\">\n",
       "  <thead>\n",
       "    <tr style=\"text-align: right;\">\n",
       "      <th></th>\n",
       "      <th>impression_id</th>\n",
       "      <th>impression_time</th>\n",
       "      <th>user_id</th>\n",
       "      <th>app_code</th>\n",
       "      <th>os_version</th>\n",
       "      <th>is_4G</th>\n",
       "      <th>is_click</th>\n",
       "      <th>count_of_users_based_on_app_code_of_partner_website</th>\n",
       "      <th>count_of_users_based_on_4g_usedornot</th>\n",
       "    </tr>\n",
       "  </thead>\n",
       "  <tbody>\n",
       "    <tr>\n",
       "      <th>0</th>\n",
       "      <td>c4ca4238a0b923820dcc509a6f75849b</td>\n",
       "      <td>2018-11-15 00:00:00</td>\n",
       "      <td>87862</td>\n",
       "      <td>422</td>\n",
       "      <td>old</td>\n",
       "      <td>0</td>\n",
       "      <td>0.0</td>\n",
       "      <td>3</td>\n",
       "      <td>0</td>\n",
       "    </tr>\n",
       "    <tr>\n",
       "      <th>1</th>\n",
       "      <td>45c48cce2e2d7fbdea1afc51c7c6ad26</td>\n",
       "      <td>2018-11-15 00:01:00</td>\n",
       "      <td>63410</td>\n",
       "      <td>467</td>\n",
       "      <td>latest</td>\n",
       "      <td>1</td>\n",
       "      <td>1.0</td>\n",
       "      <td>61</td>\n",
       "      <td>61</td>\n",
       "    </tr>\n",
       "  </tbody>\n",
       "</table>\n",
       "</div>"
      ],
      "text/plain": [
       "                      impression_id      impression_time  user_id  app_code  \\\n",
       "0  c4ca4238a0b923820dcc509a6f75849b  2018-11-15 00:00:00    87862       422   \n",
       "1  45c48cce2e2d7fbdea1afc51c7c6ad26  2018-11-15 00:01:00    63410       467   \n",
       "\n",
       "  os_version  is_4G  is_click  \\\n",
       "0        old      0       0.0   \n",
       "1     latest      1       1.0   \n",
       "\n",
       "   count_of_users_based_on_app_code_of_partner_website  \\\n",
       "0                                                  3     \n",
       "1                                                 61     \n",
       "\n",
       "   count_of_users_based_on_4g_usedornot  \n",
       "0                                     0  \n",
       "1                                    61  "
      ]
     },
     "metadata": {},
     "output_type": "display_data"
    }
   ],
   "source": [
    "df.head(2)"
   ]
  },
  {
   "cell_type": "code",
   "execution_count": 41,
   "metadata": {},
   "outputs": [],
   "source": [
    "df=pd.get_dummies(df,columns=['app_code','os_version'],drop_first=True)"
   ]
  },
  {
   "cell_type": "code",
   "execution_count": 42,
   "metadata": {
    "scrolled": true
   },
   "outputs": [
    {
     "data": {
      "text/plain": [
       "Index(['impression_id', 'impression_time', 'user_id', 'is_4G', 'is_click',\n",
       "       'count_of_users_based_on_app_code_of_partner_website',\n",
       "       'count_of_users_based_on_4g_usedornot', 'app_code_1', 'app_code_2',\n",
       "       'app_code_3',\n",
       "       ...\n",
       "       'app_code_515', 'app_code_516', 'app_code_517', 'app_code_518',\n",
       "       'app_code_519', 'app_code_520', 'app_code_521', 'app_code_522',\n",
       "       'os_version_latest', 'os_version_old'],\n",
       "      dtype='object', length=530)"
      ]
     },
     "execution_count": 42,
     "metadata": {},
     "output_type": "execute_result"
    }
   ],
   "source": [
    "df.columns"
   ]
  },
  {
   "cell_type": "code",
   "execution_count": 43,
   "metadata": {},
   "outputs": [
    {
     "data": {
      "application/vnd.jupyter.widget-view+json": {
       "model_id": "faaf4d49aad541bcb8111b0d1fe52c2f"
      },
      "text/html": [
       "<div>\n",
       "<style scoped>\n",
       "    .dataframe tbody tr th:only-of-type {\n",
       "        vertical-align: middle;\n",
       "    }\n",
       "\n",
       "    .dataframe tbody tr th {\n",
       "        vertical-align: top;\n",
       "    }\n",
       "\n",
       "    .dataframe thead th {\n",
       "        text-align: right;\n",
       "    }\n",
       "</style>\n",
       "<table border=\"1\" class=\"dataframe\">\n",
       "  <thead>\n",
       "    <tr style=\"text-align: right;\">\n",
       "      <th></th>\n",
       "      <th>server_time</th>\n",
       "      <th>device_type</th>\n",
       "      <th>session_id</th>\n",
       "      <th>user_id</th>\n",
       "      <th>item_id</th>\n",
       "    </tr>\n",
       "  </thead>\n",
       "  <tbody>\n",
       "    <tr>\n",
       "      <th>0</th>\n",
       "      <td>2018-10-15 08:58:00</td>\n",
       "      <td>android</td>\n",
       "      <td>112333</td>\n",
       "      <td>4557</td>\n",
       "      <td>32970</td>\n",
       "    </tr>\n",
       "    <tr>\n",
       "      <th>1</th>\n",
       "      <td>2018-10-15 08:58:00</td>\n",
       "      <td>android</td>\n",
       "      <td>503590</td>\n",
       "      <td>74788</td>\n",
       "      <td>7640</td>\n",
       "    </tr>\n",
       "  </tbody>\n",
       "</table>\n",
       "</div>"
      ],
      "text/plain": [
       "           server_time device_type  session_id  user_id  item_id\n",
       "0  2018-10-15 08:58:00     android      112333     4557    32970\n",
       "1  2018-10-15 08:58:00     android      503590    74788     7640"
      ]
     },
     "metadata": {},
     "output_type": "display_data"
    }
   ],
   "source": [
    "viewlog.head(2)"
   ]
  },
  {
   "cell_type": "code",
   "execution_count": 44,
   "metadata": {
    "scrolled": true
   },
   "outputs": [
    {
     "data": {
      "application/vnd.jupyter.widget-view+json": {
       "model_id": "8516282ddab34371a357418bfb5b44cf"
      },
      "text/html": [
       "<div>\n",
       "<style scoped>\n",
       "    .dataframe tbody tr th:only-of-type {\n",
       "        vertical-align: middle;\n",
       "    }\n",
       "\n",
       "    .dataframe tbody tr th {\n",
       "        vertical-align: top;\n",
       "    }\n",
       "\n",
       "    .dataframe thead th {\n",
       "        text-align: right;\n",
       "    }\n",
       "</style>\n",
       "<table border=\"1\" class=\"dataframe\">\n",
       "  <thead>\n",
       "    <tr style=\"text-align: right;\">\n",
       "      <th></th>\n",
       "      <th>item_id</th>\n",
       "      <th>item_price</th>\n",
       "      <th>category_1</th>\n",
       "      <th>category_2</th>\n",
       "      <th>category_3</th>\n",
       "      <th>product_type</th>\n",
       "    </tr>\n",
       "  </thead>\n",
       "  <tbody>\n",
       "    <tr>\n",
       "      <th>0</th>\n",
       "      <td>26880</td>\n",
       "      <td>4602</td>\n",
       "      <td>11</td>\n",
       "      <td>35</td>\n",
       "      <td>20</td>\n",
       "      <td>3040</td>\n",
       "    </tr>\n",
       "    <tr>\n",
       "      <th>1</th>\n",
       "      <td>54939</td>\n",
       "      <td>3513</td>\n",
       "      <td>12</td>\n",
       "      <td>57</td>\n",
       "      <td>85</td>\n",
       "      <td>6822</td>\n",
       "    </tr>\n",
       "  </tbody>\n",
       "</table>\n",
       "</div>"
      ],
      "text/plain": [
       "   item_id  item_price  category_1  category_2  category_3  product_type\n",
       "0    26880        4602          11          35          20          3040\n",
       "1    54939        3513          12          57          85          6822"
      ]
     },
     "metadata": {},
     "output_type": "display_data"
    }
   ],
   "source": [
    "item.head(2)"
   ]
  },
  {
   "cell_type": "code",
   "execution_count": 45,
   "metadata": {},
   "outputs": [],
   "source": [
    "view_item=viewlog.merge(item,on='item_id',how='left')"
   ]
  },
  {
   "cell_type": "code",
   "execution_count": 46,
   "metadata": {
    "scrolled": true
   },
   "outputs": [
    {
     "data": {
      "application/vnd.jupyter.widget-view+json": {
       "model_id": "ff2668f626ca43d6aaa3a5e8a65eb9f5"
      },
      "text/html": [
       "<div>\n",
       "<style scoped>\n",
       "    .dataframe tbody tr th:only-of-type {\n",
       "        vertical-align: middle;\n",
       "    }\n",
       "\n",
       "    .dataframe tbody tr th {\n",
       "        vertical-align: top;\n",
       "    }\n",
       "\n",
       "    .dataframe thead th {\n",
       "        text-align: right;\n",
       "    }\n",
       "</style>\n",
       "<table border=\"1\" class=\"dataframe\">\n",
       "  <thead>\n",
       "    <tr style=\"text-align: right;\">\n",
       "      <th></th>\n",
       "      <th>server_time</th>\n",
       "      <th>device_type</th>\n",
       "      <th>session_id</th>\n",
       "      <th>user_id</th>\n",
       "      <th>item_id</th>\n",
       "      <th>item_price</th>\n",
       "      <th>category_1</th>\n",
       "      <th>category_2</th>\n",
       "      <th>category_3</th>\n",
       "      <th>product_type</th>\n",
       "    </tr>\n",
       "  </thead>\n",
       "  <tbody>\n",
       "    <tr>\n",
       "      <th>0</th>\n",
       "      <td>2018-10-15 08:58:00</td>\n",
       "      <td>android</td>\n",
       "      <td>112333</td>\n",
       "      <td>4557</td>\n",
       "      <td>32970</td>\n",
       "      <td>54685.0</td>\n",
       "      <td>16.0</td>\n",
       "      <td>56.0</td>\n",
       "      <td>253.0</td>\n",
       "      <td>3184.0</td>\n",
       "    </tr>\n",
       "    <tr>\n",
       "      <th>1</th>\n",
       "      <td>2018-10-15 08:58:00</td>\n",
       "      <td>android</td>\n",
       "      <td>503590</td>\n",
       "      <td>74788</td>\n",
       "      <td>7640</td>\n",
       "      <td>1376.0</td>\n",
       "      <td>7.0</td>\n",
       "      <td>71.0</td>\n",
       "      <td>228.0</td>\n",
       "      <td>545.0</td>\n",
       "    </tr>\n",
       "  </tbody>\n",
       "</table>\n",
       "</div>"
      ],
      "text/plain": [
       "           server_time device_type  session_id  user_id  item_id  item_price  \\\n",
       "0  2018-10-15 08:58:00     android      112333     4557    32970     54685.0   \n",
       "1  2018-10-15 08:58:00     android      503590    74788     7640      1376.0   \n",
       "\n",
       "   category_1  category_2  category_3  product_type  \n",
       "0        16.0        56.0       253.0        3184.0  \n",
       "1         7.0        71.0       228.0         545.0  "
      ]
     },
     "metadata": {},
     "output_type": "display_data"
    }
   ],
   "source": [
    "view_item.head(2)"
   ]
  },
  {
   "cell_type": "code",
   "execution_count": 47,
   "metadata": {},
   "outputs": [
    {
     "data": {
      "text/plain": [
       "Index(['server_time', 'device_type', 'session_id', 'user_id', 'item_id',\n",
       "       'item_price', 'category_1', 'category_2', 'category_3', 'product_type'],\n",
       "      dtype='object')"
      ]
     },
     "execution_count": 47,
     "metadata": {},
     "output_type": "execute_result"
    }
   ],
   "source": [
    "view_item.columns"
   ]
  },
  {
   "cell_type": "code",
   "execution_count": 48,
   "metadata": {},
   "outputs": [],
   "source": [
    "view_item=pd.get_dummies(view_item,columns=['device_type','category_1'],drop_first=True)"
   ]
  },
  {
   "cell_type": "code",
   "execution_count": 49,
   "metadata": {},
   "outputs": [
    {
     "data": {
      "text/plain": [
       "Index(['server_time', 'session_id', 'user_id', 'item_id', 'item_price',\n",
       "       'category_2', 'category_3', 'product_type', 'device_type_iphone',\n",
       "       'device_type_web', 'category_1_1.0', 'category_1_2.0', 'category_1_4.0',\n",
       "       'category_1_5.0', 'category_1_6.0', 'category_1_7.0', 'category_1_8.0',\n",
       "       'category_1_9.0', 'category_1_10.0', 'category_1_11.0',\n",
       "       'category_1_12.0', 'category_1_13.0', 'category_1_14.0',\n",
       "       'category_1_15.0', 'category_1_16.0', 'category_1_17.0'],\n",
       "      dtype='object')"
      ]
     },
     "execution_count": 49,
     "metadata": {},
     "output_type": "execute_result"
    }
   ],
   "source": [
    "view_item.columns"
   ]
  },
  {
   "cell_type": "code",
   "execution_count": 50,
   "metadata": {},
   "outputs": [],
   "source": [
    "agg_func = {\n",
    "    'device_type_iphone': ['max'],\n",
    "    'device_type_web': ['max'],\n",
    "    'item_id': ['count'],\n",
    "    'item_price': ['sum', 'mean'],\n",
    "    'category_1_1.0': ['min','max','count','mean','sum'],\n",
    "    'category_1_2.0': ['min','max','count','mean','sum'],\n",
    "    'category_1_4.0': ['min','max','count','mean','sum'],\n",
    "    'category_1_5.0': ['min','max','count','mean','sum'],\n",
    "    'category_1_6.0': ['min','max','count','mean','sum'],\n",
    "    'category_1_7.0': ['min','max','count','mean','sum'],\n",
    "    'category_1_8.0': ['min','max','count','mean','sum'],\n",
    "    'category_1_9.0': ['min','max','count','mean','sum'],\n",
    "    'category_1_10.0': ['min','max','count','mean','sum'],\n",
    "    'category_1_11.0': ['min','max','count','mean','sum'],\n",
    "    'category_1_12.0': ['min','max','count','mean','sum'],\n",
    "    'category_1_13.0': ['min','max','count','mean','sum'],\n",
    "    'category_1_14.0': ['min','max','count','mean','sum'],\n",
    "    'category_1_15.0': ['min','max','count','mean','sum'],\n",
    "    'category_1_16.0': ['min','max','count','mean','sum'],\n",
    "    'category_1_17.0': ['min','max','count','mean','sum'],\n",
    "    'category_2': ['min', 'max', 'count', 'mean'],\n",
    "    'category_3': ['min', 'max', 'count', 'mean'],\n",
    "    'product_type': ['min', 'max', 'count']\n",
    "}"
   ]
  },
  {
   "cell_type": "code",
   "execution_count": 51,
   "metadata": {},
   "outputs": [],
   "source": [
    "view_item=view_item.groupby('user_id').agg(agg_func)"
   ]
  },
  {
   "cell_type": "code",
   "execution_count": 52,
   "metadata": {},
   "outputs": [
    {
     "data": {
      "application/vnd.jupyter.widget-view+json": {
       "model_id": "d0f7a392cc424ebe995fe44e6c872e75"
      },
      "text/html": [
       "<div>\n",
       "<style scoped>\n",
       "    .dataframe tbody tr th:only-of-type {\n",
       "        vertical-align: middle;\n",
       "    }\n",
       "\n",
       "    .dataframe tbody tr th {\n",
       "        vertical-align: top;\n",
       "    }\n",
       "\n",
       "    .dataframe thead tr th {\n",
       "        text-align: left;\n",
       "    }\n",
       "\n",
       "    .dataframe thead tr:last-of-type th {\n",
       "        text-align: right;\n",
       "    }\n",
       "</style>\n",
       "<table border=\"1\" class=\"dataframe\">\n",
       "  <thead>\n",
       "    <tr>\n",
       "      <th></th>\n",
       "      <th>device_type_iphone</th>\n",
       "      <th>device_type_web</th>\n",
       "      <th>item_id</th>\n",
       "      <th colspan=\"2\" halign=\"left\">item_price</th>\n",
       "      <th colspan=\"5\" halign=\"left\">category_1_1.0</th>\n",
       "      <th>...</th>\n",
       "      <th colspan=\"3\" halign=\"left\">category_2</th>\n",
       "      <th colspan=\"4\" halign=\"left\">category_3</th>\n",
       "      <th colspan=\"3\" halign=\"left\">product_type</th>\n",
       "    </tr>\n",
       "    <tr>\n",
       "      <th></th>\n",
       "      <th>max</th>\n",
       "      <th>max</th>\n",
       "      <th>count</th>\n",
       "      <th>sum</th>\n",
       "      <th>mean</th>\n",
       "      <th>min</th>\n",
       "      <th>max</th>\n",
       "      <th>count</th>\n",
       "      <th>mean</th>\n",
       "      <th>sum</th>\n",
       "      <th>...</th>\n",
       "      <th>max</th>\n",
       "      <th>count</th>\n",
       "      <th>mean</th>\n",
       "      <th>min</th>\n",
       "      <th>max</th>\n",
       "      <th>count</th>\n",
       "      <th>mean</th>\n",
       "      <th>min</th>\n",
       "      <th>max</th>\n",
       "      <th>count</th>\n",
       "    </tr>\n",
       "    <tr>\n",
       "      <th>user_id</th>\n",
       "      <th></th>\n",
       "      <th></th>\n",
       "      <th></th>\n",
       "      <th></th>\n",
       "      <th></th>\n",
       "      <th></th>\n",
       "      <th></th>\n",
       "      <th></th>\n",
       "      <th></th>\n",
       "      <th></th>\n",
       "      <th></th>\n",
       "      <th></th>\n",
       "      <th></th>\n",
       "      <th></th>\n",
       "      <th></th>\n",
       "      <th></th>\n",
       "      <th></th>\n",
       "      <th></th>\n",
       "      <th></th>\n",
       "      <th></th>\n",
       "      <th></th>\n",
       "    </tr>\n",
       "  </thead>\n",
       "  <tbody>\n",
       "    <tr>\n",
       "      <th>0</th>\n",
       "      <td>0</td>\n",
       "      <td>0</td>\n",
       "      <td>42</td>\n",
       "      <td>394618.0</td>\n",
       "      <td>9395.666667</td>\n",
       "      <td>0</td>\n",
       "      <td>1</td>\n",
       "      <td>42</td>\n",
       "      <td>0.166667</td>\n",
       "      <td>7.0</td>\n",
       "      <td>...</td>\n",
       "      <td>79.0</td>\n",
       "      <td>42</td>\n",
       "      <td>36.214286</td>\n",
       "      <td>30.0</td>\n",
       "      <td>308.0</td>\n",
       "      <td>42</td>\n",
       "      <td>171.571429</td>\n",
       "      <td>60.0</td>\n",
       "      <td>10457.0</td>\n",
       "      <td>42</td>\n",
       "    </tr>\n",
       "    <tr>\n",
       "      <th>1</th>\n",
       "      <td>0</td>\n",
       "      <td>0</td>\n",
       "      <td>8</td>\n",
       "      <td>31574.0</td>\n",
       "      <td>3946.750000</td>\n",
       "      <td>0</td>\n",
       "      <td>0</td>\n",
       "      <td>8</td>\n",
       "      <td>0.000000</td>\n",
       "      <td>0.0</td>\n",
       "      <td>...</td>\n",
       "      <td>78.0</td>\n",
       "      <td>8</td>\n",
       "      <td>44.625000</td>\n",
       "      <td>44.0</td>\n",
       "      <td>277.0</td>\n",
       "      <td>8</td>\n",
       "      <td>143.375000</td>\n",
       "      <td>3303.0</td>\n",
       "      <td>10112.0</td>\n",
       "      <td>8</td>\n",
       "    </tr>\n",
       "  </tbody>\n",
       "</table>\n",
       "<p>2 rows × 96 columns</p>\n",
       "</div>"
      ],
      "text/plain": [
       "        device_type_iphone device_type_web item_id item_price               \\\n",
       "                       max             max   count        sum         mean   \n",
       "user_id                                                                      \n",
       "0                        0               0      42   394618.0  9395.666667   \n",
       "1                        0               0       8    31574.0  3946.750000   \n",
       "\n",
       "        category_1_1.0                           ... category_2        \\\n",
       "                   min max count      mean  sum  ...        max count   \n",
       "user_id                                          ...                    \n",
       "0                    0   1    42  0.166667  7.0  ...       79.0    42   \n",
       "1                    0   0     8  0.000000  0.0  ...       78.0     8   \n",
       "\n",
       "                   category_3                          product_type           \\\n",
       "              mean        min    max count        mean          min      max   \n",
       "user_id                                                                        \n",
       "0        36.214286       30.0  308.0    42  171.571429         60.0  10457.0   \n",
       "1        44.625000       44.0  277.0     8  143.375000       3303.0  10112.0   \n",
       "\n",
       "               \n",
       "        count  \n",
       "user_id        \n",
       "0          42  \n",
       "1           8  \n",
       "\n",
       "[2 rows x 96 columns]"
      ]
     },
     "metadata": {},
     "output_type": "display_data"
    }
   ],
   "source": [
    "view_item.head(2)"
   ]
  },
  {
   "cell_type": "code",
   "execution_count": 53,
   "metadata": {},
   "outputs": [
    {
     "data": {
      "application/vnd.jupyter.widget-view+json": {
       "model_id": "a756f90c7b354acd9532a18cd702dcfc"
      },
      "text/html": [
       "<div>\n",
       "<style scoped>\n",
       "    .dataframe tbody tr th:only-of-type {\n",
       "        vertical-align: middle;\n",
       "    }\n",
       "\n",
       "    .dataframe tbody tr th {\n",
       "        vertical-align: top;\n",
       "    }\n",
       "\n",
       "    .dataframe thead th {\n",
       "        text-align: right;\n",
       "    }\n",
       "</style>\n",
       "<table border=\"1\" class=\"dataframe\">\n",
       "  <thead>\n",
       "    <tr style=\"text-align: right;\">\n",
       "      <th></th>\n",
       "      <th>user_id</th>\n",
       "      <th>J_device_type_iphone_max</th>\n",
       "      <th>J_device_type_web_max</th>\n",
       "      <th>J_item_id_count</th>\n",
       "      <th>J_item_price_sum</th>\n",
       "      <th>J_item_price_mean</th>\n",
       "      <th>J_category_1_1.0_min</th>\n",
       "      <th>J_category_1_1.0_max</th>\n",
       "      <th>J_category_1_1.0_count</th>\n",
       "      <th>J_category_1_1.0_mean</th>\n",
       "      <th>...</th>\n",
       "      <th>J_category_2_max</th>\n",
       "      <th>J_category_2_count</th>\n",
       "      <th>J_category_2_mean</th>\n",
       "      <th>J_category_3_min</th>\n",
       "      <th>J_category_3_max</th>\n",
       "      <th>J_category_3_count</th>\n",
       "      <th>J_category_3_mean</th>\n",
       "      <th>J_product_type_min</th>\n",
       "      <th>J_product_type_max</th>\n",
       "      <th>J_product_type_count</th>\n",
       "    </tr>\n",
       "  </thead>\n",
       "  <tbody>\n",
       "    <tr>\n",
       "      <th>0</th>\n",
       "      <td>0</td>\n",
       "      <td>0</td>\n",
       "      <td>0</td>\n",
       "      <td>42</td>\n",
       "      <td>394618.0</td>\n",
       "      <td>9395.666667</td>\n",
       "      <td>0</td>\n",
       "      <td>1</td>\n",
       "      <td>42</td>\n",
       "      <td>0.166667</td>\n",
       "      <td>...</td>\n",
       "      <td>79.0</td>\n",
       "      <td>42</td>\n",
       "      <td>36.214286</td>\n",
       "      <td>30.0</td>\n",
       "      <td>308.0</td>\n",
       "      <td>42</td>\n",
       "      <td>171.571429</td>\n",
       "      <td>60.0</td>\n",
       "      <td>10457.0</td>\n",
       "      <td>42</td>\n",
       "    </tr>\n",
       "    <tr>\n",
       "      <th>1</th>\n",
       "      <td>1</td>\n",
       "      <td>0</td>\n",
       "      <td>0</td>\n",
       "      <td>8</td>\n",
       "      <td>31574.0</td>\n",
       "      <td>3946.750000</td>\n",
       "      <td>0</td>\n",
       "      <td>0</td>\n",
       "      <td>8</td>\n",
       "      <td>0.000000</td>\n",
       "      <td>...</td>\n",
       "      <td>78.0</td>\n",
       "      <td>8</td>\n",
       "      <td>44.625000</td>\n",
       "      <td>44.0</td>\n",
       "      <td>277.0</td>\n",
       "      <td>8</td>\n",
       "      <td>143.375000</td>\n",
       "      <td>3303.0</td>\n",
       "      <td>10112.0</td>\n",
       "      <td>8</td>\n",
       "    </tr>\n",
       "  </tbody>\n",
       "</table>\n",
       "<p>2 rows × 97 columns</p>\n",
       "</div>"
      ],
      "text/plain": [
       "   user_id  J_device_type_iphone_max  J_device_type_web_max  J_item_id_count  \\\n",
       "0        0                         0                      0               42   \n",
       "1        1                         0                      0                8   \n",
       "\n",
       "   J_item_price_sum  J_item_price_mean  J_category_1_1.0_min  \\\n",
       "0          394618.0        9395.666667                     0   \n",
       "1           31574.0        3946.750000                     0   \n",
       "\n",
       "   J_category_1_1.0_max  J_category_1_1.0_count  J_category_1_1.0_mean  ...  \\\n",
       "0                     1                      42               0.166667  ...   \n",
       "1                     0                       8               0.000000  ...   \n",
       "\n",
       "   J_category_2_max  J_category_2_count  J_category_2_mean  J_category_3_min  \\\n",
       "0              79.0                  42          36.214286              30.0   \n",
       "1              78.0                   8          44.625000              44.0   \n",
       "\n",
       "   J_category_3_max  J_category_3_count  J_category_3_mean  \\\n",
       "0             308.0                  42         171.571429   \n",
       "1             277.0                   8         143.375000   \n",
       "\n",
       "   J_product_type_min  J_product_type_max  J_product_type_count  \n",
       "0                60.0             10457.0                    42  \n",
       "1              3303.0             10112.0                     8  \n",
       "\n",
       "[2 rows x 97 columns]"
      ]
     },
     "metadata": {},
     "output_type": "display_data"
    }
   ],
   "source": [
    "view_item.columns=['J_'+'_'.join(col).strip() for col in view_item.columns.values]\n",
    "view_item.reset_index(inplace=True)\n",
    "view_item.head(2)"
   ]
  },
  {
   "cell_type": "code",
   "execution_count": 54,
   "metadata": {},
   "outputs": [
    {
     "data": {
      "application/vnd.jupyter.widget-view+json": {
       "model_id": "655c89e33a724c4c951b5b2fcd46a262"
      },
      "text/html": [
       "<div>\n",
       "<style scoped>\n",
       "    .dataframe tbody tr th:only-of-type {\n",
       "        vertical-align: middle;\n",
       "    }\n",
       "\n",
       "    .dataframe tbody tr th {\n",
       "        vertical-align: top;\n",
       "    }\n",
       "\n",
       "    .dataframe thead th {\n",
       "        text-align: right;\n",
       "    }\n",
       "</style>\n",
       "<table border=\"1\" class=\"dataframe\">\n",
       "  <thead>\n",
       "    <tr style=\"text-align: right;\">\n",
       "      <th></th>\n",
       "      <th>impression_id</th>\n",
       "      <th>impression_time</th>\n",
       "      <th>user_id</th>\n",
       "      <th>is_4G</th>\n",
       "      <th>is_click</th>\n",
       "      <th>count_of_users_based_on_app_code_of_partner_website</th>\n",
       "      <th>count_of_users_based_on_4g_usedornot</th>\n",
       "      <th>app_code_1</th>\n",
       "      <th>app_code_2</th>\n",
       "      <th>app_code_3</th>\n",
       "      <th>...</th>\n",
       "      <th>J_category_2_max</th>\n",
       "      <th>J_category_2_count</th>\n",
       "      <th>J_category_2_mean</th>\n",
       "      <th>J_category_3_min</th>\n",
       "      <th>J_category_3_max</th>\n",
       "      <th>J_category_3_count</th>\n",
       "      <th>J_category_3_mean</th>\n",
       "      <th>J_product_type_min</th>\n",
       "      <th>J_product_type_max</th>\n",
       "      <th>J_product_type_count</th>\n",
       "    </tr>\n",
       "  </thead>\n",
       "  <tbody>\n",
       "    <tr>\n",
       "      <th>0</th>\n",
       "      <td>c4ca4238a0b923820dcc509a6f75849b</td>\n",
       "      <td>2018-11-15 00:00:00</td>\n",
       "      <td>87862</td>\n",
       "      <td>0</td>\n",
       "      <td>0.0</td>\n",
       "      <td>3</td>\n",
       "      <td>0</td>\n",
       "      <td>0</td>\n",
       "      <td>0</td>\n",
       "      <td>0</td>\n",
       "      <td>...</td>\n",
       "      <td>35.0</td>\n",
       "      <td>1</td>\n",
       "      <td>35.0</td>\n",
       "      <td>20.0</td>\n",
       "      <td>20.0</td>\n",
       "      <td>1</td>\n",
       "      <td>20.0</td>\n",
       "      <td>5622.0</td>\n",
       "      <td>5622.0</td>\n",
       "      <td>1</td>\n",
       "    </tr>\n",
       "    <tr>\n",
       "      <th>1</th>\n",
       "      <td>45c48cce2e2d7fbdea1afc51c7c6ad26</td>\n",
       "      <td>2018-11-15 00:01:00</td>\n",
       "      <td>63410</td>\n",
       "      <td>1</td>\n",
       "      <td>1.0</td>\n",
       "      <td>61</td>\n",
       "      <td>61</td>\n",
       "      <td>0</td>\n",
       "      <td>0</td>\n",
       "      <td>0</td>\n",
       "      <td>...</td>\n",
       "      <td>76.0</td>\n",
       "      <td>12</td>\n",
       "      <td>67.0</td>\n",
       "      <td>67.0</td>\n",
       "      <td>295.0</td>\n",
       "      <td>12</td>\n",
       "      <td>257.5</td>\n",
       "      <td>577.0</td>\n",
       "      <td>9337.0</td>\n",
       "      <td>12</td>\n",
       "    </tr>\n",
       "  </tbody>\n",
       "</table>\n",
       "<p>2 rows × 626 columns</p>\n",
       "</div>"
      ],
      "text/plain": [
       "                      impression_id      impression_time  user_id  is_4G  \\\n",
       "0  c4ca4238a0b923820dcc509a6f75849b  2018-11-15 00:00:00    87862      0   \n",
       "1  45c48cce2e2d7fbdea1afc51c7c6ad26  2018-11-15 00:01:00    63410      1   \n",
       "\n",
       "   is_click  count_of_users_based_on_app_code_of_partner_website  \\\n",
       "0       0.0                                                  3     \n",
       "1       1.0                                                 61     \n",
       "\n",
       "   count_of_users_based_on_4g_usedornot  app_code_1  app_code_2  app_code_3  \\\n",
       "0                                     0           0           0           0   \n",
       "1                                    61           0           0           0   \n",
       "\n",
       "   ...  J_category_2_max  J_category_2_count  J_category_2_mean  \\\n",
       "0  ...              35.0                   1               35.0   \n",
       "1  ...              76.0                  12               67.0   \n",
       "\n",
       "   J_category_3_min  J_category_3_max  J_category_3_count  J_category_3_mean  \\\n",
       "0              20.0              20.0                   1               20.0   \n",
       "1              67.0             295.0                  12              257.5   \n",
       "\n",
       "   J_product_type_min  J_product_type_max  J_product_type_count  \n",
       "0              5622.0              5622.0                     1  \n",
       "1               577.0              9337.0                    12  \n",
       "\n",
       "[2 rows x 626 columns]"
      ]
     },
     "metadata": {},
     "output_type": "display_data"
    }
   ],
   "source": [
    "df=df.merge(view_item,on='user_id',how='left')\n",
    "df.head(2)"
   ]
  },
  {
   "cell_type": "code",
   "execution_count": 55,
   "metadata": {},
   "outputs": [
    {
     "data": {
      "text/plain": [
       "(328284, 626)"
      ]
     },
     "execution_count": 55,
     "metadata": {},
     "output_type": "execute_result"
    }
   ],
   "source": [
    "df.shape"
   ]
  },
  {
   "cell_type": "code",
   "execution_count": 56,
   "metadata": {},
   "outputs": [],
   "source": [
    "df.drop(['impression_id','impression_time','user_id'],axis=1,inplace=True)"
   ]
  },
  {
   "cell_type": "code",
   "execution_count": 57,
   "metadata": {},
   "outputs": [],
   "source": [
    "train_df=df[df['is_click'].isnull()!=True]\n",
    "test_df=df[df['is_click'].isnull()==True]\n",
    "test_df.drop('is_click',axis=1,inplace=True)"
   ]
  },
  {
   "cell_type": "code",
   "execution_count": 58,
   "metadata": {},
   "outputs": [
    {
     "data": {
      "text/plain": [
       "((237609, 623), (90675, 622))"
      ]
     },
     "execution_count": 58,
     "metadata": {},
     "output_type": "execute_result"
    }
   ],
   "source": [
    "train_df.shape,test_df.shape"
   ]
  },
  {
   "cell_type": "markdown",
   "metadata": {},
   "source": [
    "# Train Test Split"
   ]
  },
  {
   "cell_type": "code",
   "execution_count": 59,
   "metadata": {},
   "outputs": [],
   "source": [
    "X=train_df.drop('is_click',axis=1)\n",
    "y=train_df['is_click']\n",
    "from sklearn.model_selection import train_test_split\n",
    "X_train,X_test,y_train,y_test=train_test_split(X,y,test_size=0.25,random_state=1)"
   ]
  },
  {
   "cell_type": "code",
   "execution_count": 60,
   "metadata": {},
   "outputs": [
    {
     "data": {
      "text/plain": [
       "((178206, 622), (59403, 622), (178206,), (59403,))"
      ]
     },
     "execution_count": 60,
     "metadata": {},
     "output_type": "execute_result"
    }
   ],
   "source": [
    "X_train.shape,X_test.shape,y_train.shape,y_test.shape"
   ]
  },
  {
   "cell_type": "markdown",
   "metadata": {},
   "source": [
    "# Build the Model"
   ]
  },
  {
   "cell_type": "code",
   "execution_count": 61,
   "metadata": {},
   "outputs": [
    {
     "name": "stdout",
     "output_type": "stream",
     "text": [
      "Requirement already satisfied: lightgbm in c:\\users\\abhisek chand\\anaconda3\\lib\\site-packages (2.3.1)\n",
      "Requirement already satisfied: numpy in c:\\users\\abhisek chand\\anaconda3\\lib\\site-packages (from lightgbm) (1.17.4)\n",
      "Requirement already satisfied: scikit-learn in c:\\users\\abhisek chand\\anaconda3\\lib\\site-packages (from lightgbm) (0.21.3)\n",
      "Requirement already satisfied: scipy in c:\\users\\abhisek chand\\anaconda3\\lib\\site-packages (from lightgbm) (1.3.2)\n",
      "Requirement already satisfied: joblib>=0.11 in c:\\users\\abhisek chand\\anaconda3\\lib\\site-packages (from scikit-learn->lightgbm) (0.14.0)\n"
     ]
    }
   ],
   "source": [
    "!pip install lightgbm"
   ]
  },
  {
   "cell_type": "code",
   "execution_count": 62,
   "metadata": {},
   "outputs": [],
   "source": [
    "from lightgbm import LGBMClassifier\n",
    "from sklearn.metrics import roc_auc_score"
   ]
  },
  {
   "cell_type": "code",
   "execution_count": 63,
   "metadata": {},
   "outputs": [],
   "source": [
    "lgbm=LGBMClassifier(boosting_type='gbdt',num_leaves=31,max_depth=-1,learning_rate=0.07,\n",
    "                    n_estimators=1000,min_child_weight=0.1,colsample_bytree=0.5,random_state=0)"
   ]
  },
  {
   "cell_type": "code",
   "execution_count": 64,
   "metadata": {},
   "outputs": [
    {
     "name": "stdout",
     "output_type": "stream",
     "text": [
      "Training until validation scores don't improve for 100 rounds\n",
      "[100]\tvalid_0's auc: 0.738126\tvalid_0's binary_logloss: 0.169757\n",
      "[200]\tvalid_0's auc: 0.74354\tvalid_0's binary_logloss: 0.168735\n",
      "[300]\tvalid_0's auc: 0.744769\tvalid_0's binary_logloss: 0.168466\n",
      "[400]\tvalid_0's auc: 0.74514\tvalid_0's binary_logloss: 0.168429\n",
      "Early stopping, best iteration is:\n",
      "[389]\tvalid_0's auc: 0.745218\tvalid_0's binary_logloss: 0.16841\n"
     ]
    },
    {
     "data": {
      "text/plain": [
       "LGBMClassifier(boosting_type='gbdt', class_weight=None, colsample_bytree=0.5,\n",
       "               importance_type='split', learning_rate=0.07, max_depth=-1,\n",
       "               min_child_samples=20, min_child_weight=0.1, min_split_gain=0.0,\n",
       "               n_estimators=1000, n_jobs=-1, num_leaves=31, objective=None,\n",
       "               random_state=0, reg_alpha=0.0, reg_lambda=0.0, silent=True,\n",
       "               subsample=1.0, subsample_for_bin=200000, subsample_freq=0)"
      ]
     },
     "execution_count": 64,
     "metadata": {},
     "output_type": "execute_result"
    }
   ],
   "source": [
    "lgbm.fit(X_train,y_train,\n",
    "         eval_set=(X_test,y_test),\n",
    "         eval_metric='auc',\n",
    "         early_stopping_rounds=100,\n",
    "         verbose=100)"
   ]
  },
  {
   "cell_type": "code",
   "execution_count": 65,
   "metadata": {},
   "outputs": [],
   "source": [
    "y_pred=lgbm.predict_proba(X_test)[:,-1]"
   ]
  },
  {
   "cell_type": "code",
   "execution_count": 66,
   "metadata": {},
   "outputs": [
    {
     "data": {
      "text/plain": [
       "0.745217567904112"
      ]
     },
     "execution_count": 66,
     "metadata": {},
     "output_type": "execute_result"
    }
   ],
   "source": [
    "roc_auc_score(y_test,y_pred)"
   ]
  },
  {
   "cell_type": "markdown",
   "metadata": {},
   "source": [
    "# Prediction on Test Set"
   ]
  },
  {
   "cell_type": "code",
   "execution_count": 67,
   "metadata": {},
   "outputs": [
    {
     "name": "stdout",
     "output_type": "stream",
     "text": [
      "Training until validation scores don't improve for 100 rounds\n",
      "[100]\tvalid_0's auc: 0.729774\tvalid_0's binary_logloss: 0.170305\n",
      "[200]\tvalid_0's auc: 0.735659\tvalid_0's binary_logloss: 0.169576\n",
      "[300]\tvalid_0's auc: 0.73882\tvalid_0's binary_logloss: 0.169182\n",
      "[400]\tvalid_0's auc: 0.740308\tvalid_0's binary_logloss: 0.169116\n",
      "Early stopping, best iteration is:\n",
      "[305]\tvalid_0's auc: 0.739007\tvalid_0's binary_logloss: 0.169101\n",
      "ROC_AUC Score 0.7390074743206523\n",
      "-------------------fold {1} completed\n",
      "Training until validation scores don't improve for 100 rounds\n",
      "[100]\tvalid_0's auc: 0.735866\tvalid_0's binary_logloss: 0.169473\n",
      "[200]\tvalid_0's auc: 0.739825\tvalid_0's binary_logloss: 0.168708\n",
      "[300]\tvalid_0's auc: 0.743495\tvalid_0's binary_logloss: 0.168228\n",
      "[400]\tvalid_0's auc: 0.743511\tvalid_0's binary_logloss: 0.168092\n",
      "Early stopping, best iteration is:\n",
      "[321]\tvalid_0's auc: 0.7443\tvalid_0's binary_logloss: 0.168123\n",
      "ROC_AUC Score 0.7443002548916786\n",
      "-------------------fold {2} completed\n",
      "Training until validation scores don't improve for 100 rounds\n",
      "[100]\tvalid_0's auc: 0.723102\tvalid_0's binary_logloss: 0.170972\n",
      "[200]\tvalid_0's auc: 0.728647\tvalid_0's binary_logloss: 0.170183\n",
      "[300]\tvalid_0's auc: 0.73124\tvalid_0's binary_logloss: 0.16998\n",
      "[400]\tvalid_0's auc: 0.732413\tvalid_0's binary_logloss: 0.169905\n",
      "Early stopping, best iteration is:\n",
      "[336]\tvalid_0's auc: 0.732559\tvalid_0's binary_logloss: 0.169829\n",
      "ROC_AUC Score 0.7325592232300036\n",
      "-------------------fold {3} completed\n",
      "Training until validation scores don't improve for 100 rounds\n",
      "[100]\tvalid_0's auc: 0.736584\tvalid_0's binary_logloss: 0.169201\n",
      "[200]\tvalid_0's auc: 0.742988\tvalid_0's binary_logloss: 0.167983\n",
      "[300]\tvalid_0's auc: 0.744287\tvalid_0's binary_logloss: 0.167756\n",
      "[400]\tvalid_0's auc: 0.74631\tvalid_0's binary_logloss: 0.167558\n",
      "Early stopping, best iteration is:\n",
      "[377]\tvalid_0's auc: 0.74643\tvalid_0's binary_logloss: 0.16748\n",
      "ROC_AUC Score 0.7464302813598348\n",
      "-------------------fold {4} completed\n",
      "Training until validation scores don't improve for 100 rounds\n",
      "[100]\tvalid_0's auc: 0.731842\tvalid_0's binary_logloss: 0.170072\n",
      "[200]\tvalid_0's auc: 0.73748\tvalid_0's binary_logloss: 0.169024\n",
      "[300]\tvalid_0's auc: 0.74035\tvalid_0's binary_logloss: 0.168503\n",
      "[400]\tvalid_0's auc: 0.743051\tvalid_0's binary_logloss: 0.168051\n",
      "[500]\tvalid_0's auc: 0.744258\tvalid_0's binary_logloss: 0.167954\n",
      "[600]\tvalid_0's auc: 0.746171\tvalid_0's binary_logloss: 0.16776\n",
      "[700]\tvalid_0's auc: 0.746379\tvalid_0's binary_logloss: 0.168007\n",
      "Early stopping, best iteration is:\n",
      "[603]\tvalid_0's auc: 0.746245\tvalid_0's binary_logloss: 0.167748\n",
      "ROC_AUC Score 0.7462447588938905\n",
      "-------------------fold {5} completed\n",
      "Training until validation scores don't improve for 100 rounds\n",
      "[100]\tvalid_0's auc: 0.743019\tvalid_0's binary_logloss: 0.168707\n",
      "[200]\tvalid_0's auc: 0.750053\tvalid_0's binary_logloss: 0.167252\n",
      "[300]\tvalid_0's auc: 0.753255\tvalid_0's binary_logloss: 0.166606\n",
      "[400]\tvalid_0's auc: 0.755247\tvalid_0's binary_logloss: 0.16612\n",
      "[500]\tvalid_0's auc: 0.753974\tvalid_0's binary_logloss: 0.166308\n",
      "Early stopping, best iteration is:\n",
      "[421]\tvalid_0's auc: 0.755699\tvalid_0's binary_logloss: 0.166059\n",
      "ROC_AUC Score 0.7556989325909997\n",
      "-------------------fold {6} completed\n",
      "Training until validation scores don't improve for 100 rounds\n",
      "[100]\tvalid_0's auc: 0.732181\tvalid_0's binary_logloss: 0.170037\n",
      "[200]\tvalid_0's auc: 0.73925\tvalid_0's binary_logloss: 0.168983\n",
      "[300]\tvalid_0's auc: 0.742368\tvalid_0's binary_logloss: 0.168387\n",
      "[400]\tvalid_0's auc: 0.744453\tvalid_0's binary_logloss: 0.16815\n",
      "[500]\tvalid_0's auc: 0.745236\tvalid_0's binary_logloss: 0.168299\n",
      "Early stopping, best iteration is:\n",
      "[447]\tvalid_0's auc: 0.745711\tvalid_0's binary_logloss: 0.168097\n",
      "ROC_AUC Score 0.7457108513485252\n",
      "-------------------fold {7} completed\n",
      "Training until validation scores don't improve for 100 rounds\n",
      "[100]\tvalid_0's auc: 0.733278\tvalid_0's binary_logloss: 0.170127\n",
      "[200]\tvalid_0's auc: 0.74137\tvalid_0's binary_logloss: 0.168772\n",
      "[300]\tvalid_0's auc: 0.744642\tvalid_0's binary_logloss: 0.168207\n",
      "[400]\tvalid_0's auc: 0.744944\tvalid_0's binary_logloss: 0.168003\n",
      "[500]\tvalid_0's auc: 0.745759\tvalid_0's binary_logloss: 0.167949\n",
      "[600]\tvalid_0's auc: 0.74624\tvalid_0's binary_logloss: 0.167886\n",
      "Early stopping, best iteration is:\n",
      "[554]\tvalid_0's auc: 0.746641\tvalid_0's binary_logloss: 0.167799\n",
      "ROC_AUC Score 0.7466406708521828\n",
      "-------------------fold {8} completed\n",
      "Training until validation scores don't improve for 100 rounds\n",
      "[100]\tvalid_0's auc: 0.731332\tvalid_0's binary_logloss: 0.169977\n",
      "[200]\tvalid_0's auc: 0.73672\tvalid_0's binary_logloss: 0.169154\n",
      "[300]\tvalid_0's auc: 0.737941\tvalid_0's binary_logloss: 0.169016\n",
      "[400]\tvalid_0's auc: 0.739832\tvalid_0's binary_logloss: 0.168875\n",
      "Early stopping, best iteration is:\n",
      "[382]\tvalid_0's auc: 0.740094\tvalid_0's binary_logloss: 0.168775\n",
      "ROC_AUC Score 0.7400941822364588\n",
      "-------------------fold {9} completed\n",
      "Training until validation scores don't improve for 100 rounds\n",
      "[100]\tvalid_0's auc: 0.723053\tvalid_0's binary_logloss: 0.171463\n",
      "[200]\tvalid_0's auc: 0.726541\tvalid_0's binary_logloss: 0.170911\n",
      "[300]\tvalid_0's auc: 0.73161\tvalid_0's binary_logloss: 0.170375\n",
      "[400]\tvalid_0's auc: 0.732688\tvalid_0's binary_logloss: 0.17025\n",
      "Early stopping, best iteration is:\n",
      "[394]\tvalid_0's auc: 0.732789\tvalid_0's binary_logloss: 0.170215\n",
      "ROC_AUC Score 0.7327892657737803\n",
      "-------------------fold {10} completed\n"
     ]
    }
   ],
   "source": [
    "err=[]\n",
    "y_pred_tot=[]\n",
    "from sklearn.model_selection import StratifiedKFold\n",
    "fold=StratifiedKFold(n_splits=10, shuffle=True, random_state=123)\n",
    "i=1\n",
    "for train_index,test_index in fold.split(X,y):\n",
    "    X_train,X_test=X.iloc[train_index],X.iloc[test_index]\n",
    "    y_train,y_test=y[train_index],y[test_index]\n",
    "    lgbm=LGBMClassifier(boosting_type='gbdt',num_leaves=31,max_depth=-1,learning_rate=0.07,n_estimators=1000,\n",
    "    min_child_weight=0.01,colsample_bytree=0.5,random_state=0)\n",
    "    lgbm.fit(X_train,y_train,eval_set=(X_test,y_test),eval_metric='auc',early_stopping_rounds=100,verbose=100)\n",
    "    y_pred=lgbm.predict_proba(X_test)[:,-1]\n",
    "    print(\"ROC_AUC Score\",roc_auc_score(y_test,y_pred))\n",
    "    err.append(roc_auc_score(y_test,y_pred))\n",
    "    print('-------------------fold',{i},'completed')\n",
    "    p=lgbm.predict_proba(test_df)[:,-1]\n",
    "    i=i+1\n",
    "    y_pred_tot.append(p)"
   ]
  },
  {
   "cell_type": "code",
   "execution_count": 68,
   "metadata": {},
   "outputs": [
    {
     "data": {
      "text/plain": [
       "0.7429475895498007"
      ]
     },
     "execution_count": 68,
     "metadata": {},
     "output_type": "execute_result"
    }
   ],
   "source": [
    "err_avg=np.mean(err)\n",
    "err_avg"
   ]
  },
  {
   "cell_type": "code",
   "execution_count": 69,
   "metadata": {},
   "outputs": [
    {
     "data": {
      "text/plain": [
       "0.042109155549487944"
      ]
     },
     "execution_count": 69,
     "metadata": {},
     "output_type": "execute_result"
    }
   ],
   "source": [
    "y_pred=np.mean(y_pred_tot)\n",
    "y_pred"
   ]
  },
  {
   "cell_type": "markdown",
   "metadata": {},
   "source": [
    "# Submission"
   ]
  },
  {
   "cell_type": "code",
   "execution_count": 71,
   "metadata": {},
   "outputs": [],
   "source": [
    "sub['is_click']=y_pred"
   ]
  },
  {
   "cell_type": "code",
   "execution_count": 72,
   "metadata": {},
   "outputs": [
    {
     "data": {
      "application/vnd.jupyter.widget-view+json": {
       "model_id": "5175e6a81c27413ca430265cd7e9a084"
      },
      "text/html": [
       "<div>\n",
       "<style scoped>\n",
       "    .dataframe tbody tr th:only-of-type {\n",
       "        vertical-align: middle;\n",
       "    }\n",
       "\n",
       "    .dataframe tbody tr th {\n",
       "        vertical-align: top;\n",
       "    }\n",
       "\n",
       "    .dataframe thead th {\n",
       "        text-align: right;\n",
       "    }\n",
       "</style>\n",
       "<table border=\"1\" class=\"dataframe\">\n",
       "  <thead>\n",
       "    <tr style=\"text-align: right;\">\n",
       "      <th></th>\n",
       "      <th>impression_id</th>\n",
       "      <th>is_click</th>\n",
       "    </tr>\n",
       "  </thead>\n",
       "  <tbody>\n",
       "    <tr>\n",
       "      <th>0</th>\n",
       "      <td>a9e7126a585a69a32bc7414e9d0c0ada</td>\n",
       "      <td>0.042109</td>\n",
       "    </tr>\n",
       "    <tr>\n",
       "      <th>1</th>\n",
       "      <td>caac14a5bf2ba283db7708bb34855760</td>\n",
       "      <td>0.042109</td>\n",
       "    </tr>\n",
       "    <tr>\n",
       "      <th>2</th>\n",
       "      <td>13f10ba306a19ce7bec2f3cae507b698</td>\n",
       "      <td>0.042109</td>\n",
       "    </tr>\n",
       "    <tr>\n",
       "      <th>3</th>\n",
       "      <td>39c4b4dc0e9701b55a0a4f072008fb3f</td>\n",
       "      <td>0.042109</td>\n",
       "    </tr>\n",
       "    <tr>\n",
       "      <th>4</th>\n",
       "      <td>bf5a572cca75f5fc67f4b14e58b11d70</td>\n",
       "      <td>0.042109</td>\n",
       "    </tr>\n",
       "  </tbody>\n",
       "</table>\n",
       "</div>"
      ],
      "text/plain": [
       "                      impression_id  is_click\n",
       "0  a9e7126a585a69a32bc7414e9d0c0ada  0.042109\n",
       "1  caac14a5bf2ba283db7708bb34855760  0.042109\n",
       "2  13f10ba306a19ce7bec2f3cae507b698  0.042109\n",
       "3  39c4b4dc0e9701b55a0a4f072008fb3f  0.042109\n",
       "4  bf5a572cca75f5fc67f4b14e58b11d70  0.042109"
      ]
     },
     "metadata": {},
     "output_type": "display_data"
    }
   ],
   "source": [
    "sub.head()"
   ]
  },
  {
   "cell_type": "code",
   "execution_count": 73,
   "metadata": {},
   "outputs": [],
   "source": [
    "sub.to_csv('Click_prediction_KFOLD',index=False)"
   ]
  }
 ],
 "metadata": {
  "kernelspec": {
   "display_name": "Python 3",
   "language": "python",
   "name": "python3"
  },
  "language_info": {
   "codemirror_mode": {
    "name": "ipython",
    "version": 3
   },
   "file_extension": ".py",
   "mimetype": "text/x-python",
   "name": "python",
   "nbconvert_exporter": "python",
   "pygments_lexer": "ipython3",
   "version": "3.7.5"
  }
 },
 "nbformat": 4,
 "nbformat_minor": 2
}
